{
  "nbformat": 4,
  "nbformat_minor": 0,
  "metadata": {
    "colab": {
      "name": "StackedLSTM_AnomalyDetector_final.ipynb",
      "provenance": [],
      "collapsed_sections": [],
      "toc_visible": true,
      "machine_shape": "hm"
    },
    "kernelspec": {
      "name": "python3",
      "display_name": "Python 3"
    }
  },
  "cells": [
    {
      "cell_type": "code",
      "metadata": {
        "id": "ToZ3lqdqiaR5",
        "colab_type": "code",
        "outputId": "e777a683-eea1-4498-b4e0-991e9c7e5741",
        "colab": {
          "base_uri": "https://localhost:8080/",
          "height": 33
        }
      },
      "source": [
        "import pandas as pd \n",
        "import numpy as np \n",
        "import tensorflow as tf\n",
        "import seaborn as sns\n",
        "import matplotlib.pyplot as plt\n",
        "from sklearn.preprocessing import StandardScaler\n",
        "from statsmodels.robust import mad\n",
        "from tensorflow import keras \n",
        "from keras.models import *\n",
        "from keras.layers import *\n",
        "from keras import regularizers\n",
        "from keras.callbacks import EarlyStopping\n",
        "%matplotlib inline"
      ],
      "execution_count": 0,
      "outputs": [
        {
          "output_type": "stream",
          "text": [
            "Using TensorFlow backend.\n"
          ],
          "name": "stderr"
        }
      ]
    },
    {
      "cell_type": "code",
      "metadata": {
        "id": "Oqw4xNDgil9D",
        "colab_type": "code",
        "outputId": "27912df4-d279-4581-b837-7e396d3d9081",
        "colab": {
          "base_uri": "https://localhost:8080/",
          "height": 120
        }
      },
      "source": [
        "from google.colab import drive\n",
        "drive.mount('/content/drive')"
      ],
      "execution_count": 0,
      "outputs": [
        {
          "output_type": "stream",
          "text": [
            "Go to this URL in a browser: https://accounts.google.com/o/oauth2/auth?client_id=947318989803-6bn6qk8qdgf4n4g3pfee6491hc0brc4i.apps.googleusercontent.com&redirect_uri=urn%3aietf%3awg%3aoauth%3a2.0%3aoob&response_type=code&scope=email%20https%3a%2f%2fwww.googleapis.com%2fauth%2fdocs.test%20https%3a%2f%2fwww.googleapis.com%2fauth%2fdrive%20https%3a%2f%2fwww.googleapis.com%2fauth%2fdrive.photos.readonly%20https%3a%2f%2fwww.googleapis.com%2fauth%2fpeopleapi.readonly\n",
            "\n",
            "Enter your authorization code:\n",
            "··········\n",
            "Mounted at /content/drive\n"
          ],
          "name": "stdout"
        }
      ]
    },
    {
      "cell_type": "code",
      "metadata": {
        "id": "vvLMaUxzKbIW",
        "colab_type": "code",
        "colab": {}
      },
      "source": [
        "#Setting a consistent Random State \n",
        "RANDOM_SEED = 42\n",
        "TIME_STEPS = 7\n",
        "ANOM_VAL = 2.5\n",
        "NANOSECONDS = 6e10\n",
        "np.random.seed(RANDOM_SEED)\n",
        "tf.random.set_seed(RANDOM_SEED)"
      ],
      "execution_count": 0,
      "outputs": []
    },
    {
      "cell_type": "code",
      "metadata": {
        "id": "6qcND81uYUXj",
        "colab_type": "code",
        "colab": {}
      },
      "source": [
        "def pre_process_frequency(input_df):\n",
        "  \"\"\"\n",
        "  Returns the frequence based on time stamp\n",
        "  \"\"\"\n",
        "  dataset = input_df.copy()\n",
        "  series_dt=pd.Series(dataset.date,dtype='datetime64')\n",
        "  dataset['date'] = series_dt.view('int64')\n",
        "  dt_diff = dataset.date.diff().value_counts()\n",
        "  diff_min = dt_diff.index[0]/NANOSECONDS\n",
        "  res_freq = str(int(diff_min))+ 'min'\n",
        "  return res_freq"
      ],
      "execution_count": 0,
      "outputs": []
    },
    {
      "cell_type": "code",
      "metadata": {
        "id": "KDBNjk-sb4eG",
        "colab_type": "code",
        "colab": {}
      },
      "source": [
        "def pre_process_stdscalar(df):\n",
        "  \"\"\"\n",
        "  Returns the scaled value\n",
        "  \"\"\"\n",
        "  scaler = StandardScaler()\n",
        "  scaler = scaler.fit(df[['value']])\n",
        "  df['scaled_value'] = scaler.transform(df[['value']])\n",
        "  return df['scaled_value'], scaler"
      ],
      "execution_count": 0,
      "outputs": []
    },
    {
      "cell_type": "code",
      "metadata": {
        "id": "0QSI-ksqc4HV",
        "colab_type": "code",
        "colab": {}
      },
      "source": [
        "def pre_process_timestep(df):\n",
        "  \"\"\"\n",
        "  Creates repetitive sequences based on TIME STEPS\n",
        "  \"\"\"\n",
        "  scaled_data = df.iloc[:, 1:2].values\n",
        "  x_seq = []\n",
        "  y_seq = []\n",
        "  x_comp_seq = []\n",
        "  for i in range(TIME_STEPS, len(df)):\n",
        "    x_seq.append(scaled_data[i-TIME_STEPS:i, 0])\n",
        "    y_seq.append(scaled_data[i, 0])\n",
        "    x_comp_seq.append(scaled_data[i-TIME_STEPS:i, 0])\n",
        "  x_comp_seq.append(scaled_data[len(df)-TIME_STEPS:len(df), 0])\n",
        "  x_seq, y_seq, x_comp_seq  = np.array(x_seq), np.array(y_seq) , np.array(x_comp_seq)\n",
        "  return x_seq,y_seq,x_comp_seq"
      ],
      "execution_count": 0,
      "outputs": []
    },
    {
      "cell_type": "code",
      "metadata": {
        "id": "E0nyWa4b-3Wa",
        "colab_type": "code",
        "colab": {}
      },
      "source": [
        "def retrieve_dataset(input_array):\n",
        "  \"\"\"\n",
        "  Retrieve the default dimensions \n",
        "  from the reshaped array of predictions\n",
        "  \"\"\"\n",
        "  scaled_seq = scaler.inverse_transform((input_array))\n",
        "  predicted_seq_val = []\n",
        "  for i in range(len(scaled_seq)):\n",
        "      value = scaled_seq[i,0,0]\n",
        "      predicted_seq_val.append(value)\n",
        "  for i in range (1,TIME_STEPS):\n",
        "      value = scaled_seq[len(scaled_seq) - 1  ,i,0]\n",
        "      predicted_seq_val.append(value)\n",
        "  return np.array(predicted_seq_val)"
      ],
      "execution_count": 0,
      "outputs": []
    },
    {
      "cell_type": "code",
      "metadata": {
        "id": "QEcmUlY9e4dp",
        "colab_type": "code",
        "colab": {}
      },
      "source": [
        "def model_validation(history):\n",
        "  plt.plot(history.history['loss'])\n",
        "  plt.plot(history.history['val_loss'])\n",
        "  plt.title('model train vs validation loss')\n",
        "  plt.ylabel('loss')\n",
        "  plt.xlabel('epoch')\n",
        "  plt.legend(['train', 'validation'], loc='upper right')\n",
        "  plt.show()"
      ],
      "execution_count": 0,
      "outputs": []
    },
    {
      "cell_type": "code",
      "metadata": {
        "id": "wx62DOjXfS3H",
        "colab_type": "code",
        "colab": {}
      },
      "source": [
        "def is_anomaly(res_array, anom_factor):\n",
        "  upper_limit = np.median(res_array) + mad(res_array)*anom_factor\n",
        "  lower_limit = np.median(res_array) - mad(res_array)*anom_factor\n",
        "  return (res_array >=  upper_limit) | (res_array <= lower_limit)"
      ],
      "execution_count": 0,
      "outputs": []
    },
    {
      "cell_type": "code",
      "metadata": {
        "id": "wRHiuA4kfex0",
        "colab_type": "code",
        "colab": {}
      },
      "source": [
        "def plot_anomalies():\n",
        "  plt.plot(\n",
        "      input_dataframe.index, \n",
        "      input_dataframe['value'], \n",
        "      label='value'\n",
        "      );\n",
        "  sns.scatterplot(\n",
        "      input_dataframe[(input_dataframe['isAnomaly'] == True)]['value'].index, \n",
        "      input_dataframe[(input_dataframe['isAnomaly'] == True)]['value'], \n",
        "      color=sns.color_palette()[3],\n",
        "      s=52,\n",
        "      label='anomaly'\n",
        "      )\n",
        "  plt.xticks(rotation=25)\n",
        "  plt.legend();"
      ],
      "execution_count": 0,
      "outputs": []
    },
    {
      "cell_type": "code",
      "metadata": {
        "id": "6NVLO6RkiqWq",
        "colab_type": "code",
        "colab": {}
      },
      "source": [
        "#NYC dataset\n",
        "#input_dataframe = pd.read_csv('/content/drive/My Drive/Colab Notebooks/nyc.csv', parse_dates=['timestamp'])\n",
        "\n",
        "#SPX dataset\n",
        "#df = pd.read_csv('/content/drive/My Drive/Colab Notebooks/spx.csv', parse_dates=['date'], index_col='date')\n",
        "#df.rename(columns = {'close':'value'}, inplace = True)\n",
        "\n",
        "#Gold_Price\n",
        "input_dataframe = pd.read_csv(\"/content/drive/My Drive/Colab Notebooks/gold_price.csv\",parse_dates=['date'])\n",
        "input_dataframe.rename(columns = {'price_1gm':'value','timestamp' : 'date'}, inplace = True)"
      ],
      "execution_count": 0,
      "outputs": []
    },
    {
      "cell_type": "code",
      "metadata": {
        "id": "Lf_Pc2JrGb-d",
        "colab_type": "code",
        "colab": {}
      },
      "source": [
        "freq = pre_process_frequency(input_dataframe)"
      ],
      "execution_count": 0,
      "outputs": []
    },
    {
      "cell_type": "code",
      "metadata": {
        "id": "_Zo8wwJ_HDlL",
        "colab_type": "code",
        "colab": {}
      },
      "source": [
        "input_dataframe = input_dataframe.set_index('date').resample(freq).ffill()"
      ],
      "execution_count": 0,
      "outputs": []
    },
    {
      "cell_type": "code",
      "metadata": {
        "id": "yXUj0mwPH9-E",
        "colab_type": "code",
        "colab": {}
      },
      "source": [
        "#Sorting the input dataframe based on time stamp\n",
        "input_dataframe = input_dataframe.sort_index()"
      ],
      "execution_count": 0,
      "outputs": []
    },
    {
      "cell_type": "code",
      "metadata": {
        "id": "FKoQEH8xIYbJ",
        "colab_type": "code",
        "outputId": "f86c526c-38b0-4471-e50c-e37f3f2c3f9d",
        "colab": {
          "base_uri": "https://localhost:8080/",
          "height": 33
        }
      },
      "source": [
        "input_dataframe.shape"
      ],
      "execution_count": 0,
      "outputs": [
        {
          "output_type": "execute_result",
          "data": {
            "text/plain": [
              "(7320, 1)"
            ]
          },
          "metadata": {
            "tags": []
          },
          "execution_count": 14
        }
      ]
    },
    {
      "cell_type": "code",
      "metadata": {
        "id": "sh8YTPWbiwu5",
        "colab_type": "code",
        "colab": {}
      },
      "source": [
        "#Scaling the input dataframe\n",
        "input_dataframe['scaled_value'],scaler = pre_process_stdscalar(input_dataframe)"
      ],
      "execution_count": 0,
      "outputs": []
    },
    {
      "cell_type": "code",
      "metadata": {
        "id": "IlfkzoIyioYp",
        "colab_type": "code",
        "colab": {}
      },
      "source": [
        "#Reshapping the input data frame for LSTM model\n",
        "x_seq,y_seq,X_cseq = pre_process_timestep(input_dataframe)\n",
        "x_seq = np.reshape(x_seq, (x_seq.shape[0], x_seq.shape[1], 1))\n",
        "X_cseq = np.reshape(X_cseq, (X_cseq.shape[0], X_cseq.shape[1], 1))"
      ],
      "execution_count": 0,
      "outputs": []
    },
    {
      "cell_type": "code",
      "metadata": {
        "id": "HLNAiVqiyBOF",
        "colab_type": "code",
        "outputId": "6ad48100-5443-4378-f392-b481b71d9924",
        "colab": {
          "base_uri": "https://localhost:8080/",
          "height": 452
        }
      },
      "source": [
        "#Building a Stacked LSTM Model\n",
        "model = keras.Sequential()\n",
        "model.add(keras.layers.LSTM(units = 64, \n",
        "                            activation ='relu', \n",
        "                            kernel_initializer=keras.initializers.lecun_uniform(seed=None), \n",
        "                            kernel_regularizer=keras.regularizers.l2(l=0.1), \n",
        "                            return_sequences = True, \n",
        "                            input_shape = (x_seq.shape[1], 1))\n",
        ")\n",
        "model.add(keras.layers.Dropout(0.2))\n",
        "model.add(keras.layers.LSTM(units = 64, \n",
        "                            activation ='relu', \n",
        "                            kernel_initializer=keras.initializers.lecun_uniform(seed=None), \n",
        "                            kernel_regularizer=keras.regularizers.l2(l=0.1), \n",
        "                            return_sequences = True)\n",
        ")\n",
        "model.add(keras.layers.Dropout(0.2))\n",
        "model.add(keras.layers.LSTM(units = 64,  \n",
        "                            activation ='relu', \n",
        "                            return_sequences = True)\n",
        ")\n",
        "model.add(keras.layers.Dropout(0.2))\n",
        "model.add(keras.layers.LSTM(units = 64, \n",
        "                            activation ='relu' ,  \n",
        "                            return_sequences = True)\n",
        ")\n",
        "model.add(keras.layers.Dropout(0.2))\n",
        "model.add(keras.layers.Dense(units = 1))\n",
        "model.compile(optimizer = 'adam', loss = 'mae')\n",
        "callbacks = [EarlyStopping(monitor='val_loss', patience=2)]\n",
        "model.summary()"
      ],
      "execution_count": 0,
      "outputs": [
        {
          "output_type": "stream",
          "text": [
            "Model: \"sequential\"\n",
            "_________________________________________________________________\n",
            "Layer (type)                 Output Shape              Param #   \n",
            "=================================================================\n",
            "lstm (LSTM)                  (None, 7, 64)             16896     \n",
            "_________________________________________________________________\n",
            "dropout (Dropout)            (None, 7, 64)             0         \n",
            "_________________________________________________________________\n",
            "lstm_1 (LSTM)                (None, 7, 64)             33024     \n",
            "_________________________________________________________________\n",
            "dropout_1 (Dropout)          (None, 7, 64)             0         \n",
            "_________________________________________________________________\n",
            "lstm_2 (LSTM)                (None, 7, 64)             33024     \n",
            "_________________________________________________________________\n",
            "dropout_2 (Dropout)          (None, 7, 64)             0         \n",
            "_________________________________________________________________\n",
            "lstm_3 (LSTM)                (None, 7, 64)             33024     \n",
            "_________________________________________________________________\n",
            "dropout_3 (Dropout)          (None, 7, 64)             0         \n",
            "_________________________________________________________________\n",
            "dense (Dense)                (None, 7, 1)              65        \n",
            "=================================================================\n",
            "Total params: 116,033\n",
            "Trainable params: 116,033\n",
            "Non-trainable params: 0\n",
            "_________________________________________________________________\n"
          ],
          "name": "stdout"
        }
      ]
    },
    {
      "cell_type": "code",
      "metadata": {
        "id": "8SrStyXdApI9",
        "colab_type": "code",
        "outputId": "d9ba566d-4dbd-4b79-c64a-684afc2d87a1",
        "colab": {
          "base_uri": "https://localhost:8080/",
          "height": 535
        }
      },
      "source": [
        "#Training the LSTM Model\n",
        "history = model.fit(x_seq, y_seq, epochs=20,\n",
        "    batch_size=32,\n",
        "    callbacks=callbacks,\n",
        "    validation_data= (x_seq,y_seq)\n",
        ")"
      ],
      "execution_count": 0,
      "outputs": [
        {
          "output_type": "stream",
          "text": [
            "Train on 7313 samples, validate on 7313 samples\n",
            "Epoch 1/20\n",
            "7313/7313 [==============================] - 9s 1ms/sample - loss: 27.4921 - val_loss: 16.8105\n",
            "Epoch 2/20\n",
            "7313/7313 [==============================] - 5s 751us/sample - loss: 13.4352 - val_loss: 10.5644\n",
            "Epoch 3/20\n",
            "7313/7313 [==============================] - 5s 737us/sample - loss: 8.5859 - val_loss: 6.7343\n",
            "Epoch 4/20\n",
            "7313/7313 [==============================] - 5s 750us/sample - loss: 5.4078 - val_loss: 4.1389\n",
            "Epoch 5/20\n",
            "7313/7313 [==============================] - 5s 742us/sample - loss: 3.3217 - val_loss: 2.4767\n",
            "Epoch 6/20\n",
            "7313/7313 [==============================] - 6s 757us/sample - loss: 1.9917 - val_loss: 1.4472\n",
            "Epoch 7/20\n",
            "7313/7313 [==============================] - 5s 747us/sample - loss: 1.1717 - val_loss: 0.8220\n",
            "Epoch 8/20\n",
            "7313/7313 [==============================] - 6s 759us/sample - loss: 0.6905 - val_loss: 0.4678\n",
            "Epoch 9/20\n",
            "7313/7313 [==============================] - 5s 719us/sample - loss: 0.4190 - val_loss: 0.2625\n",
            "Epoch 10/20\n",
            "7313/7313 [==============================] - 5s 742us/sample - loss: 0.2810 - val_loss: 0.1637\n",
            "Epoch 11/20\n",
            "7313/7313 [==============================] - 5s 731us/sample - loss: 0.2046 - val_loss: 0.1303\n",
            "Epoch 12/20\n",
            "7313/7313 [==============================] - 5s 737us/sample - loss: 0.1714 - val_loss: 0.1064\n",
            "Epoch 13/20\n",
            "7313/7313 [==============================] - 6s 777us/sample - loss: 0.1556 - val_loss: 0.0807\n",
            "Epoch 14/20\n",
            "7313/7313 [==============================] - 6s 772us/sample - loss: 0.1472 - val_loss: 0.1144\n",
            "Epoch 15/20\n",
            "7313/7313 [==============================] - 5s 739us/sample - loss: 0.1446 - val_loss: 0.0877\n"
          ],
          "name": "stdout"
        }
      ]
    },
    {
      "cell_type": "code",
      "metadata": {
        "id": "DsZQJB-RAx4o",
        "colab_type": "code",
        "colab": {}
      },
      "source": [
        "# Predict the values and update the input dataframe\n",
        "predicted_seq = model.predict(X_cseq)\n",
        "input_dataframe['predicted_val'] = retrieve_dataset(predicted_seq)"
      ],
      "execution_count": 0,
      "outputs": []
    },
    {
      "cell_type": "code",
      "metadata": {
        "id": "z8vHcKRRWpr-",
        "colab_type": "code",
        "outputId": "1163934c-ef14-425e-bfe4-9a68b17deec1",
        "colab": {
          "base_uri": "https://localhost:8080/",
          "height": 295
        }
      },
      "source": [
        "#Evaluating model train and validation loss\n",
        "model_validation(history)"
      ],
      "execution_count": 0,
      "outputs": [
        {
          "output_type": "display_data",
          "data": {
            "image/png": "[encoded data removed]",
            "text/plain": [
              "<Figure size 432x288 with 1 Axes>"
            ]
          },
          "metadata": {
            "tags": []
          }
        }
      ]
    },
    {
      "cell_type": "code",
      "metadata": {
        "id": "iJT6kLGYiMvg",
        "colab_type": "code",
        "colab": {}
      },
      "source": [
        "#Identifying the Anomalies\n",
        "error_val = input_dataframe['value'] - input_dataframe['predicted_val']\n",
        "input_dataframe[\"isAnomaly\"] = is_anomaly(error_val,ANOM_VAL)"
      ],
      "execution_count": 0,
      "outputs": []
    },
    {
      "cell_type": "code",
      "metadata": {
        "id": "9houK9BwWYLW",
        "colab_type": "code",
        "outputId": "1679c19e-8ec0-47d0-c61f-61c110dc8465",
        "colab": {
          "base_uri": "https://localhost:8080/",
          "height": 67
        }
      },
      "source": [
        "mae_loss =  np.std(error_val) + np.mean(np.abs(error_val))\n",
        "print(mae_loss)\n",
        "print(np.std(error_val))\n",
        "print(np.mean(np.abs(error_val)))"
      ],
      "execution_count": 0,
      "outputs": [
        {
          "output_type": "stream",
          "text": [
            "222.57574340261195\n",
            "132.6516785651479\n",
            "89.92406483746404\n"
          ],
          "name": "stdout"
        }
      ]
    },
    {
      "cell_type": "code",
      "metadata": {
        "id": "JnUA_VBBsU5l",
        "colab_type": "code",
        "outputId": "eddd2cd4-0047-4536-956f-750242c53c7e",
        "colab": {
          "base_uri": "https://localhost:8080/",
          "height": 409
        }
      },
      "source": [
        "plot_anomalies()"
      ],
      "execution_count": 0,
      "outputs": [
        {
          "output_type": "stream",
          "text": [
            "/usr/local/lib/python3.6/dist-packages/pandas/plotting/_matplotlib/converter.py:103: FutureWarning: Using an implicitly registered datetime converter for a matplotlib plotting method. The converter was registered by pandas on import. Future versions of pandas will require you to explicitly register matplotlib converters.\n",
            "\n",
            "To register the converters:\n",
            "\t>>> from pandas.plotting import register_matplotlib_converters\n",
            "\t>>> register_matplotlib_converters()\n",
            "  warnings.warn(msg, FutureWarning)\n"
          ],
          "name": "stderr"
        },
        {
          "output_type": "display_data",
          "data": {
            "image/png": "[encoded data removed]",
            "text/plain": [
              "<Figure size 432x288 with 1 Axes>"
            ]
          },
          "metadata": {
            "tags": []
          }
        }
      ]
    },
    {
      "cell_type": "code",
      "metadata": {
        "id": "jqtOH_xKPInN",
        "colab_type": "code",
        "outputId": "d7e37dfe-4279-4e30-d467-a52ce3402975",
        "colab": {
          "base_uri": "https://localhost:8080/",
          "height": 434
        }
      },
      "source": [
        "input_dataframe[input_dataframe['isAnomaly']==True]"
      ],
      "execution_count": 0,
      "outputs": [
        {
          "output_type": "execute_result",
          "data": {
            "text/html": [
              "<div>\n",
              "<style scoped>\n",
              "    .dataframe tbody tr th:only-of-type {\n",
              "        vertical-align: middle;\n",
              "    }\n",
              "\n",
              "    .dataframe tbody tr th {\n",
              "        vertical-align: top;\n",
              "    }\n",
              "\n",
              "    .dataframe thead th {\n",
              "        text-align: right;\n",
              "    }\n",
              "</style>\n",
              "<table border=\"1\" class=\"dataframe\">\n",
              "  <thead>\n",
              "    <tr style=\"text-align: right;\">\n",
              "      <th></th>\n",
              "      <th>value</th>\n",
              "      <th>scaled_value</th>\n",
              "      <th>predicted_val</th>\n",
              "      <th>isAnomaly</th>\n",
              "    </tr>\n",
              "    <tr>\n",
              "      <th>date</th>\n",
              "      <th></th>\n",
              "      <th></th>\n",
              "      <th></th>\n",
              "      <th></th>\n",
              "    </tr>\n",
              "  </thead>\n",
              "  <tbody>\n",
              "    <tr>\n",
              "      <th>2000-01-03</th>\n",
              "      <td>710.612069</td>\n",
              "      <td>-1.390129</td>\n",
              "      <td>878.566895</td>\n",
              "      <td>True</td>\n",
              "    </tr>\n",
              "    <tr>\n",
              "      <th>2000-01-04</th>\n",
              "      <td>689.189655</td>\n",
              "      <td>-1.408968</td>\n",
              "      <td>873.526367</td>\n",
              "      <td>True</td>\n",
              "    </tr>\n",
              "    <tr>\n",
              "      <th>2000-01-05</th>\n",
              "      <td>686.618966</td>\n",
              "      <td>-1.411228</td>\n",
              "      <td>872.931396</td>\n",
              "      <td>True</td>\n",
              "    </tr>\n",
              "    <tr>\n",
              "      <th>2000-01-06</th>\n",
              "      <td>684.048276</td>\n",
              "      <td>-1.413489</td>\n",
              "      <td>872.347656</td>\n",
              "      <td>True</td>\n",
              "    </tr>\n",
              "    <tr>\n",
              "      <th>2000-01-07</th>\n",
              "      <td>690.658621</td>\n",
              "      <td>-1.407676</td>\n",
              "      <td>873.866211</td>\n",
              "      <td>True</td>\n",
              "    </tr>\n",
              "    <tr>\n",
              "      <th>...</th>\n",
              "      <td>...</td>\n",
              "      <td>...</td>\n",
              "      <td>...</td>\n",
              "      <td>...</td>\n",
              "    </tr>\n",
              "    <tr>\n",
              "      <th>2013-02-10</th>\n",
              "      <td>4084.336207</td>\n",
              "      <td>1.576754</td>\n",
              "      <td>3822.798340</td>\n",
              "      <td>True</td>\n",
              "    </tr>\n",
              "    <tr>\n",
              "      <th>2013-02-11</th>\n",
              "      <td>4044.551724</td>\n",
              "      <td>1.541768</td>\n",
              "      <td>3813.394287</td>\n",
              "      <td>True</td>\n",
              "    </tr>\n",
              "    <tr>\n",
              "      <th>2013-02-12</th>\n",
              "      <td>4033.534483</td>\n",
              "      <td>1.532079</td>\n",
              "      <td>3810.439941</td>\n",
              "      <td>True</td>\n",
              "    </tr>\n",
              "    <tr>\n",
              "      <th>2013-02-13</th>\n",
              "      <td>4027.413793</td>\n",
              "      <td>1.526696</td>\n",
              "      <td>3808.727295</td>\n",
              "      <td>True</td>\n",
              "    </tr>\n",
              "    <tr>\n",
              "      <th>2013-02-14</th>\n",
              "      <td>4029.862069</td>\n",
              "      <td>1.528849</td>\n",
              "      <td>3809.437744</td>\n",
              "      <td>True</td>\n",
              "    </tr>\n",
              "  </tbody>\n",
              "</table>\n",
              "<p>1839 rows × 4 columns</p>\n",
              "</div>"
            ],
            "text/plain": [
              "                  value  scaled_value  predicted_val  isAnomaly\n",
              "date                                                           \n",
              "2000-01-03   710.612069     -1.390129     878.566895       True\n",
              "2000-01-04   689.189655     -1.408968     873.526367       True\n",
              "2000-01-05   686.618966     -1.411228     872.931396       True\n",
              "2000-01-06   684.048276     -1.413489     872.347656       True\n",
              "2000-01-07   690.658621     -1.407676     873.866211       True\n",
              "...                 ...           ...            ...        ...\n",
              "2013-02-10  4084.336207      1.576754    3822.798340       True\n",
              "2013-02-11  4044.551724      1.541768    3813.394287       True\n",
              "2013-02-12  4033.534483      1.532079    3810.439941       True\n",
              "2013-02-13  4027.413793      1.526696    3808.727295       True\n",
              "2013-02-14  4029.862069      1.528849    3809.437744       True\n",
              "\n",
              "[1839 rows x 4 columns]"
            ]
          },
          "metadata": {
            "tags": []
          },
          "execution_count": 26
        }
      ]
    },
    {
      "cell_type": "code",
      "metadata": {
        "id": "pbe7LaNDMr8a",
        "colab_type": "code",
        "colab": {}
      },
      "source": [
        ""
      ],
      "execution_count": 0,
      "outputs": []
    }
  ]
}